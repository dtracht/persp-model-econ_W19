{
 "cells": [
  {
   "cell_type": "markdown",
   "metadata": {},
   "source": [
    "# Problem Set 7\n",
    "## Daniel Tracht\n",
    "\n",
    "## Question 1\n",
    "In this question, we will be using the data from the strongdrink.txt file."
   ]
  },
  {
   "cell_type": "code",
   "execution_count": 1,
   "metadata": {},
   "outputs": [
    {
     "data": {
      "text/html": [
       "<div>\n",
       "<style scoped>\n",
       "    .dataframe tbody tr th:only-of-type {\n",
       "        vertical-align: middle;\n",
       "    }\n",
       "\n",
       "    .dataframe tbody tr th {\n",
       "        vertical-align: top;\n",
       "    }\n",
       "\n",
       "    .dataframe thead th {\n",
       "        text-align: right;\n",
       "    }\n",
       "</style>\n",
       "<table border=\"1\" class=\"dataframe\">\n",
       "  <thead>\n",
       "    <tr style=\"text-align: right;\">\n",
       "      <th></th>\n",
       "      <th>cultivar</th>\n",
       "      <th>alco</th>\n",
       "      <th>malic</th>\n",
       "      <th>ash</th>\n",
       "      <th>alk</th>\n",
       "      <th>magn</th>\n",
       "      <th>tot_phen</th>\n",
       "      <th>flav</th>\n",
       "      <th>nonfl_phen</th>\n",
       "      <th>proanth</th>\n",
       "      <th>color_int</th>\n",
       "      <th>hue</th>\n",
       "      <th>OD280rat</th>\n",
       "      <th>proline</th>\n",
       "    </tr>\n",
       "  </thead>\n",
       "  <tbody>\n",
       "    <tr>\n",
       "      <th>0</th>\n",
       "      <td>1</td>\n",
       "      <td>14.23</td>\n",
       "      <td>1.71</td>\n",
       "      <td>2.43</td>\n",
       "      <td>15.6</td>\n",
       "      <td>127</td>\n",
       "      <td>2.80</td>\n",
       "      <td>3.06</td>\n",
       "      <td>0.28</td>\n",
       "      <td>2.29</td>\n",
       "      <td>5.64</td>\n",
       "      <td>1.04</td>\n",
       "      <td>3.92</td>\n",
       "      <td>1065</td>\n",
       "    </tr>\n",
       "    <tr>\n",
       "      <th>1</th>\n",
       "      <td>1</td>\n",
       "      <td>13.20</td>\n",
       "      <td>1.78</td>\n",
       "      <td>2.14</td>\n",
       "      <td>11.2</td>\n",
       "      <td>100</td>\n",
       "      <td>2.65</td>\n",
       "      <td>2.76</td>\n",
       "      <td>0.26</td>\n",
       "      <td>1.28</td>\n",
       "      <td>4.38</td>\n",
       "      <td>1.05</td>\n",
       "      <td>3.40</td>\n",
       "      <td>1050</td>\n",
       "    </tr>\n",
       "    <tr>\n",
       "      <th>2</th>\n",
       "      <td>1</td>\n",
       "      <td>13.16</td>\n",
       "      <td>2.36</td>\n",
       "      <td>2.67</td>\n",
       "      <td>18.6</td>\n",
       "      <td>101</td>\n",
       "      <td>2.80</td>\n",
       "      <td>3.24</td>\n",
       "      <td>0.30</td>\n",
       "      <td>2.81</td>\n",
       "      <td>5.68</td>\n",
       "      <td>1.03</td>\n",
       "      <td>3.17</td>\n",
       "      <td>1185</td>\n",
       "    </tr>\n",
       "    <tr>\n",
       "      <th>3</th>\n",
       "      <td>1</td>\n",
       "      <td>14.37</td>\n",
       "      <td>1.95</td>\n",
       "      <td>2.50</td>\n",
       "      <td>16.8</td>\n",
       "      <td>113</td>\n",
       "      <td>3.85</td>\n",
       "      <td>3.49</td>\n",
       "      <td>0.24</td>\n",
       "      <td>2.18</td>\n",
       "      <td>7.80</td>\n",
       "      <td>0.86</td>\n",
       "      <td>3.45</td>\n",
       "      <td>1480</td>\n",
       "    </tr>\n",
       "    <tr>\n",
       "      <th>4</th>\n",
       "      <td>1</td>\n",
       "      <td>13.24</td>\n",
       "      <td>2.59</td>\n",
       "      <td>2.87</td>\n",
       "      <td>21.0</td>\n",
       "      <td>118</td>\n",
       "      <td>2.80</td>\n",
       "      <td>2.69</td>\n",
       "      <td>0.39</td>\n",
       "      <td>1.82</td>\n",
       "      <td>4.32</td>\n",
       "      <td>1.04</td>\n",
       "      <td>2.93</td>\n",
       "      <td>735</td>\n",
       "    </tr>\n",
       "  </tbody>\n",
       "</table>\n",
       "</div>"
      ],
      "text/plain": [
       "   cultivar   alco  malic   ash   alk  magn  tot_phen  flav  nonfl_phen  \\\n",
       "0         1  14.23   1.71  2.43  15.6   127      2.80  3.06        0.28   \n",
       "1         1  13.20   1.78  2.14  11.2   100      2.65  2.76        0.26   \n",
       "2         1  13.16   2.36  2.67  18.6   101      2.80  3.24        0.30   \n",
       "3         1  14.37   1.95  2.50  16.8   113      3.85  3.49        0.24   \n",
       "4         1  13.24   2.59  2.87  21.0   118      2.80  2.69        0.39   \n",
       "\n",
       "   proanth  color_int   hue  OD280rat  proline  \n",
       "0     2.29       5.64  1.04      3.92     1065  \n",
       "1     1.28       4.38  1.05      3.40     1050  \n",
       "2     2.81       5.68  1.03      3.17     1185  \n",
       "3     2.18       7.80  0.86      3.45     1480  \n",
       "4     1.82       4.32  1.04      2.93      735  "
      ]
     },
     "execution_count": 1,
     "metadata": {},
     "output_type": "execute_result"
    }
   ],
   "source": [
    "import pandas as pd\n",
    "\n",
    "wine = pd.read_csv('data/strongdrink.txt')\n",
    "\n",
    "wine.head()"
   ]
  },
  {
   "cell_type": "markdown",
   "metadata": {},
   "source": [
    "### Part a\n",
    "We wish to estimate a multinomial logistic regression model for the cultivar, where the baseline class is 3.  We will estimate on a training set containing 75 percent of our observations."
   ]
  },
  {
   "cell_type": "code",
   "execution_count": 2,
   "metadata": {},
   "outputs": [
    {
     "name": "stdout",
     "output_type": "stream",
     "text": [
      "For j=1:\n",
      "Intercept: -24.02761652694668\n",
      "Betas 1 through 4 [ 1.70173443 -0.26578756  1.22410094  0.02250699]\n",
      "For j=2:\n",
      "Intercept: 22.78073250150875\n",
      "Betas 1 through 4 [-1.46629729 -0.33295144  0.66355615 -0.92268168]\n",
      "Our classification report:\n",
      "              precision    recall  f1-score   support\n",
      "\n",
      "           1       0.87      1.00      0.93        13\n",
      "           2       1.00      0.90      0.95        21\n",
      "           3       1.00      1.00      1.00        10\n",
      "\n",
      "   micro avg       0.95      0.95      0.95        44\n",
      "   macro avg       0.96      0.97      0.96        44\n",
      "weighted avg       0.96      0.95      0.96        44\n",
      "\n",
      "Test set MSE =  0.045454545454545456\n"
     ]
    }
   ],
   "source": [
    "from sklearn.model_selection import train_test_split\n",
    "from sklearn.metrics import classification_report, mean_squared_error\n",
    "from sklearn.linear_model import LogisticRegression\n",
    "import numpy as np\n",
    "\n",
    "# Define the needed variables for this analysis\n",
    "# Using .values so I don't have to define new matrix for subsquent problems\n",
    "X = wine[[\"alco\", \"malic\", \"tot_phen\", \"color_int\"]].values\n",
    "y = wine[\"cultivar\"].values\n",
    "\n",
    "# Divide the data into 75% training and 25% test\n",
    "X_train, X_test, y_train, y_test = train_test_split(X, y, test_size = 0.25,\n",
    "                                                    random_state = 20)\n",
    "\n",
    "# Run the regression\n",
    "LogReg = LogisticRegression(random_state=20, solver=\"lbfgs\",\n",
    "                            multi_class='multinomial', max_iter=1000)\n",
    "train = LogReg.fit(X_train, y_train)\n",
    "\n",
    "# coefs and intercepts are ordered j=1, j=2, j=3\n",
    "print(\"For j=1:\")\n",
    "print(\"Intercept:\", train.intercept_[0])\n",
    "print(\"Betas 1 through 4\", train.coef_[0])\n",
    "\n",
    "print(\"For j=2:\")\n",
    "print(\"Intercept:\", train.intercept_[1])\n",
    "print(\"Betas 1 through 4\", train.coef_[1])\n",
    "\n",
    "# generating classification_report\n",
    "y_pred = LogReg.predict(X_test)\n",
    "print(\"Our classification report:\")\n",
    "print(classification_report(y_test, y_pred))\n",
    "\n",
    "# generating MSE\n",
    "print('Test set MSE = ', mean_squared_error(y_test, y_pred))"
   ]
  },
  {
   "cell_type": "markdown",
   "metadata": {},
   "source": [
    "We find that the error rate for cultivar 1 is the only one that is not zero for the quarter of the data we left as a test.  Using the f1-score as our measure, our model was best at classifying wines of cultivar 3.  This is also the category with the fewest observations (and so fewest chances to make a mistake)."
   ]
  },
  {
   "cell_type": "markdown",
   "metadata": {},
   "source": [
    "### Part b\n",
    "In this question, we want to use LOOCV with the model from part a.  We want to report our error rates for each category.  We want to report the LOOCV MSE for each test, as well as the average across all tests:"
   ]
  },
  {
   "cell_type": "code",
   "execution_count": 3,
   "metadata": {},
   "outputs": [],
   "source": [
    "from sklearn.model_selection import LeaveOneOut\n",
    "\n",
    "# Setting up with the number of observations, a vector of 0s to hold MSEs\n",
    "#  and a matrix to hold precision\n",
    "N_loo = X.shape[0]\n",
    "loo = LeaveOneOut()\n",
    "loo.get_n_splits(X)\n",
    "MSE_loo = np.zeros(N_loo)\n",
    "\n",
    "# Adding a column of zeros to our data\n",
    "wine[\"zeros\"] = 0\n",
    "# making matrix with our y and the column of zeros\n",
    "precision_loo = wine[[\"cultivar\", \"zeros\"]].values"
   ]
  },
  {
   "cell_type": "code",
   "execution_count": 4,
   "metadata": {},
   "outputs": [],
   "source": [
    "# Running the loop\n",
    "for train_index, test_index in loo.split(X):\n",
    "    X_train, X_test = X[train_index], X[test_index]\n",
    "    y_train, y_test = y[train_index], y[test_index]\n",
    "    LogReg = LogisticRegression(random_state=20, solver=\"lbfgs\",\n",
    "                                multi_class='multinomial', max_iter=1000)\n",
    "    LogReg.fit(X_train, y_train)\n",
    "    y_pred = LogReg.predict(X_test)\n",
    "    # have to use indicator since multinomial\n",
    "    if y_pred == y_test:\n",
    "        MSE_loo[test_index] = 0\n",
    "        precision_loo[test_index,1] = 1\n",
    "    else:\n",
    "        MSE_loo[test_index] = 1"
   ]
  },
  {
   "cell_type": "code",
   "execution_count": 5,
   "metadata": {},
   "outputs": [
    {
     "name": "stdout",
     "output_type": "stream",
     "text": [
      "Error rate for cultivar 1: 0.06779661016949157\n",
      "Error rate for cultivar 2: 0.09859154929577463\n",
      "Error rate for cultivar 3: 0.06521739130434778\n",
      "Mean MSE across all LOOCV tests 0.07954545454545454\n"
     ]
    }
   ],
   "source": [
    "# Defining the subsets of the larger precision matrix for the three cultivars\n",
    "prec_1 = precision_loo[np.where(precision_loo[:,0] == 1)]\n",
    "prec_2 = precision_loo[np.where(precision_loo[:,0] == 2)]\n",
    "prec_3 = precision_loo[np.where(precision_loo[:,0] == 3)]\n",
    "\n",
    "print(\"Error rate for cultivar 1:\", 1 - prec_1[:,1].mean())\n",
    "print(\"Error rate for cultivar 2:\", 1 - prec_2[:,1].mean())\n",
    "print(\"Error rate for cultivar 3:\", 1 - prec_3[:,1].mean())\n",
    "\n",
    "print(\"Mean MSE across all LOOCV tests\", MSE_loo.mean())"
   ]
  },
  {
   "cell_type": "markdown",
   "metadata": {},
   "source": [
    "While the error rate for cultivar 1 decreased from 0.13 to 0.07, the error rates from cultivars 2 and 3 increased from 0 to 0.10 and 0.07 respectively."
   ]
  },
  {
   "cell_type": "markdown",
   "metadata": {},
   "source": [
    "### Part c\n",
    "In this question, we want to use $k$-fold cross validation in which $k=4$."
   ]
  },
  {
   "cell_type": "code",
   "execution_count": 6,
   "metadata": {},
   "outputs": [],
   "source": [
    "from sklearn.model_selection import KFold\n",
    "from sklearn.metrics import confusion_matrix\n",
    "\n",
    "# Using the code as specified\n",
    "kf = KFold(n_splits=4, shuffle=True, random_state=10)\n",
    "kf.get_n_splits(X)\n",
    "\n",
    "MSE_kf = np.zeros(4)\n",
    "\n",
    "# initializing for precision metrics\n",
    "c1_pred = 0\n",
    "c2_pred = 0\n",
    "c3_pred = 0\n",
    "\n",
    "c1_wrong = 0\n",
    "c2_wrong = 0\n",
    "c3_wrong = 0"
   ]
  },
  {
   "cell_type": "code",
   "execution_count": 7,
   "metadata": {},
   "outputs": [
    {
     "name": "stdout",
     "output_type": "stream",
     "text": [
      "Cultivar 1 error rate: 0.12698412698412698\n",
      "Cultivar 2 error rate: 0.08823529411764706\n",
      "Cultivar 3 error rate: 0.044444444444444446\n",
      "Mean MSE across all k-Fold tests= 0.09090909090909091\n"
     ]
    }
   ],
   "source": [
    "k_ind = int(0)\n",
    "for train_index, test_index in kf.split(X):\n",
    "    X_train, X_test = X[train_index], X[test_index]\n",
    "    y_train, y_test = y[train_index], y[test_index]\n",
    "    LogReg = LogisticRegression(random_state=10, solver=\"lbfgs\",\n",
    "                                multi_class='multinomial', max_iter=1000)\n",
    "    LogReg.fit(X_train, y_train)\n",
    "    y_pred = LogReg.predict(X_test)\n",
    "    MSE_kf[k_ind] = ((y_test != y_pred) ** 2).mean()\n",
    "    # updating precision counts\n",
    "    raveled = confusion_matrix(y_test, y_pred).ravel()\n",
    "    c1_pred = c1_pred+raveled[0]+raveled[3]+raveled[6]\n",
    "    c1_wrong = c1_wrong+raveled[3]+raveled[6]\n",
    "    c2_pred = c2_pred+raveled[1]+raveled[4]+raveled[7]\n",
    "    c2_wrong = c2_wrong+raveled[1]+raveled[7]\n",
    "    c3_pred = c3_pred+raveled[2]+raveled[5]+raveled[8]\n",
    "    c3_wrong = c3_wrong+raveled[2]+raveled[5]\n",
    "    k_ind += 1\n",
    "print(\"Cultivar 1 error rate:\", c1_wrong/c1_pred)\n",
    "print(\"Cultivar 2 error rate:\", c2_wrong/c2_pred)\n",
    "print(\"Cultivar 3 error rate:\", c3_wrong/c3_pred)\n",
    "print('Mean MSE across all k-Fold tests=', MSE_kf.mean())"
   ]
  },
  {
   "cell_type": "markdown",
   "metadata": {},
   "source": [
    "Compared to the LOOCV, our error rate for Cultivar 1 is higher, though lower for Cultivars 2 and 3.  Our MSE is slightly higher.  Compared to our simple split, our error rate for Cultivar 1 is about the same, though much higher for cultivars 2 and 3.  Our MSE is much higher as well."
   ]
  },
  {
   "cell_type": "markdown",
   "metadata": {},
   "source": [
    "## Question 2\n",
    "In this question, we will be using the data from CoolIndex.txt"
   ]
  },
  {
   "cell_type": "code",
   "execution_count": 8,
   "metadata": {},
   "outputs": [
    {
     "data": {
      "text/html": [
       "<div>\n",
       "<style scoped>\n",
       "    .dataframe tbody tr th:only-of-type {\n",
       "        vertical-align: middle;\n",
       "    }\n",
       "\n",
       "    .dataframe tbody tr th {\n",
       "        vertical-align: top;\n",
       "    }\n",
       "\n",
       "    .dataframe thead th {\n",
       "        text-align: right;\n",
       "    }\n",
       "</style>\n",
       "<table border=\"1\" class=\"dataframe\">\n",
       "  <thead>\n",
       "    <tr style=\"text-align: right;\">\n",
       "      <th></th>\n",
       "      <th>age</th>\n",
       "      <th>cool</th>\n",
       "    </tr>\n",
       "  </thead>\n",
       "  <tbody>\n",
       "    <tr>\n",
       "      <th>count</th>\n",
       "      <td>956.000000</td>\n",
       "      <td>956.000000</td>\n",
       "    </tr>\n",
       "    <tr>\n",
       "      <th>mean</th>\n",
       "      <td>44.385983</td>\n",
       "      <td>32.790118</td>\n",
       "    </tr>\n",
       "    <tr>\n",
       "      <th>std</th>\n",
       "      <td>20.250954</td>\n",
       "      <td>9.246635</td>\n",
       "    </tr>\n",
       "    <tr>\n",
       "      <th>min</th>\n",
       "      <td>11.000000</td>\n",
       "      <td>7.942515</td>\n",
       "    </tr>\n",
       "    <tr>\n",
       "      <th>25%</th>\n",
       "      <td>27.000000</td>\n",
       "      <td>29.219091</td>\n",
       "    </tr>\n",
       "    <tr>\n",
       "      <th>50%</th>\n",
       "      <td>44.000000</td>\n",
       "      <td>33.721898</td>\n",
       "    </tr>\n",
       "    <tr>\n",
       "      <th>75%</th>\n",
       "      <td>60.000000</td>\n",
       "      <td>37.453531</td>\n",
       "    </tr>\n",
       "    <tr>\n",
       "      <th>max</th>\n",
       "      <td>95.000000</td>\n",
       "      <td>63.649347</td>\n",
       "    </tr>\n",
       "  </tbody>\n",
       "</table>\n",
       "</div>"
      ],
      "text/plain": [
       "              age        cool\n",
       "count  956.000000  956.000000\n",
       "mean    44.385983   32.790118\n",
       "std     20.250954    9.246635\n",
       "min     11.000000    7.942515\n",
       "25%     27.000000   29.219091\n",
       "50%     44.000000   33.721898\n",
       "75%     60.000000   37.453531\n",
       "max     95.000000   63.649347"
      ]
     },
     "execution_count": 8,
     "metadata": {},
     "output_type": "execute_result"
    }
   ],
   "source": [
    "cool = pd.read_csv('data/CoolIndex.txt', header=None, names=[\"age\", \"cool\"])\n",
    "\n",
    "cool.describe()"
   ]
  },
  {
   "cell_type": "markdown",
   "metadata": {},
   "source": [
    "### Part a\n",
    "We wish to make a scatter plot of our data"
   ]
  },
  {
   "cell_type": "code",
   "execution_count": 19,
   "metadata": {},
   "outputs": [
    {
     "data": {
      "image/png": "[encoded data removed]",
      "text/plain": [
       "<Figure size 432x288 with 1 Axes>"
      ]
     },
     "metadata": {
      "needs_background": "light"
     },
     "output_type": "display_data"
    }
   ],
   "source": [
    "import matplotlib.pyplot as plt\n",
    "\n",
    "# Yellow is ugly, but lets the later lines be more visible\n",
    "plt.scatter(cool.age, cool.cool, c=\"y\")\n",
    "plt.title(\"Coolness According to High Schoolers\", fontsize=15)\n",
    "plt.xlabel(\"Age\")\n",
    "plt.ylabel(\"Coolness Index\")\n",
    "plt.show()"
   ]
  },
  {
   "cell_type": "markdown",
   "metadata": {},
   "source": [
    "### Part b\n",
    "We wish to use OLS to find a stepwise function to fit these data using the given bins, and add them to our plot"
   ]
  },
  {
   "cell_type": "code",
   "execution_count": 22,
   "metadata": {},
   "outputs": [
    {
     "name": "stdout",
     "output_type": "stream",
     "text": [
      "                            OLS Regression Results                            \n",
      "==============================================================================\n",
      "Dep. Variable:                   cool   R-squared:                       0.429\n",
      "Model:                            OLS   Adj. R-squared:                  0.427\n",
      "Method:                 Least Squares   F-statistic:                     178.7\n",
      "Date:                Wed, 27 Feb 2019   Prob (F-statistic):          3.73e-114\n",
      "Time:                        07:14:03   Log-Likelihood:                -3214.5\n",
      "No. Observations:                 956   AIC:                             6439.\n",
      "Df Residuals:                     951   BIC:                             6463.\n",
      "Df Model:                           4                                         \n",
      "Covariance Type:            nonrobust                                         \n",
      "==============================================================================\n",
      "                 coef    std err          t      P>|t|      [0.025      0.975]\n",
      "------------------------------------------------------------------------------\n",
      "bin1          20.1025      0.562     35.746      0.000      18.999      21.206\n",
      "bin2          34.4758      0.431     80.006      0.000      33.630      35.321\n",
      "bin3          37.6351      0.424     88.814      0.000      36.804      38.467\n",
      "bin4          35.2254      0.485     72.560      0.000      34.273      36.178\n",
      "bin5          27.2964      0.936     29.175      0.000      25.460      29.132\n",
      "==============================================================================\n",
      "Omnibus:                       80.102   Durbin-Watson:                   1.236\n",
      "Prob(Omnibus):                  0.000   Jarque-Bera (JB):              101.718\n",
      "Skew:                           0.714   Prob(JB):                     8.17e-23\n",
      "Kurtosis:                       3.719   Cond. No.                         2.21\n",
      "==============================================================================\n",
      "\n",
      "Warnings:\n",
      "[1] Standard Errors assume that the covariance matrix of the errors is correctly specified.\n"
     ]
    }
   ],
   "source": [
    "import statsmodels.api as sm\n",
    "\n",
    "# Using the bins as defined in the problem set\n",
    "cool[\"bin1\"] = np.where( (cool.age >= 11) & (cool.age < 22), 1, 0)\n",
    "cool[\"bin2\"] = np.where( (cool.age >= 22) & (cool.age < 40), 1, 0)\n",
    "cool[\"bin3\"] = np.where( (cool.age >= 40) & (cool.age < 59), 1, 0)\n",
    "cool[\"bin4\"] = np.where( (cool.age >= 59) & (cool.age < 77), 1, 0)\n",
    "cool[\"bin5\"] = np.where( (cool.age >= 77) & (cool.age <= 95), 1, 0)\n",
    "\n",
    "X=cool[[\"bin1\", \"bin2\", \"bin3\", \"bin4\", \"bin5\"]]\n",
    "step=sm.OLS(cool.cool, X).fit()\n",
    "print(step.summary())"
   ]
  },
  {
   "cell_type": "markdown",
   "metadata": {},
   "source": [
    "Our estimated vector of $\\beta$ values are the coefficients from the above regression.  Our predicted coolness of a 73 year old would be the coefficient for bin4."
   ]
  },
  {
   "cell_type": "code",
   "execution_count": 21,
   "metadata": {},
   "outputs": [
    {
     "data": {
      "image/png": "[encoded data removed]",
      "text/plain": [
       "<Figure size 432x288 with 1 Axes>"
      ]
     },
     "metadata": {
      "needs_background": "light"
     },
     "output_type": "display_data"
    }
   ],
   "source": [
    "# Adding to our plots\n",
    "plt.scatter(cool.age, cool.cool, c=\"y\", label = \"Points\")\n",
    "plt.plot(cool.age, step.predict(), c=\"r\" , label = \"Stepwise\")\n",
    "plt.legend()\n",
    "plt.title(\"Coolness According to High Schoolers\", fontsize=15)\n",
    "plt.xlabel(\"Age\")\n",
    "plt.ylabel(\"Coolness Index\")\n",
    "plt.show()"
   ]
  },
  {
   "cell_type": "markdown",
   "metadata": {},
   "source": [
    "### Part c\n",
    "In this question, we want to use a continuous linear spline over the same bins as in the previous question with the given knots, and then add it to our plot."
   ]
  },
  {
   "cell_type": "code",
   "execution_count": 16,
   "metadata": {},
   "outputs": [
    {
     "data": {
      "image/png": "[encoded data removed]",
      "text/plain": [
       "<Figure size 432x288 with 1 Axes>"
      ]
     },
     "metadata": {
      "needs_background": "light"
     },
     "output_type": "display_data"
    },
    {
     "name": "stdout",
     "output_type": "stream",
     "text": [
      "Predicted coolness for a 73 year old: 32.86784862349653\n"
     ]
    }
   ],
   "source": [
    "from scipy.interpolate import LSQUnivariateSpline\n",
    "\n",
    "cool2=cool.groupby(\"age\").mean()\n",
    "cool2[\"age\"]=cool2.index\n",
    "\n",
    "# As defined in the problem set\n",
    "knots = [22,40,59,77]\n",
    "\n",
    "lin_spline = LSQUnivariateSpline(cool2.age.values, cool2.cool.values,\n",
    "                                 t = knots, k = 1)\n",
    "\n",
    "# Adding to our plots\n",
    "plt.scatter(cool.age, cool.cool, c=\"y\", label = \"Points\")\n",
    "plt.plot(cool.age, step.predict(), c=\"r\" , label = \"Stepwise\")\n",
    "plt.plot(cool2.age,lin_spline(cool2.age), c=\"g\", label = \"Linear Spline\")\n",
    "plt.legend()\n",
    "plt.title(\"Coolness According to High Schoolers\", fontsize=15)\n",
    "plt.xlabel(\"Age\")\n",
    "plt.ylabel(\"Coolness Index\")\n",
    "plt.show()\n",
    "\n",
    "print(\"Predicted coolness for a 73 year old:\", lin_spline(73))"
   ]
  },
  {
   "cell_type": "markdown",
   "metadata": {},
   "source": [
    "### Part d\n",
    "In this question, we want to use a cubic spline over the same bins as before with the same knots, and add it to our plot."
   ]
  },
  {
   "cell_type": "code",
   "execution_count": 18,
   "metadata": {},
   "outputs": [
    {
     "data": {
      "image/png": "[encoded data removed]",
      "text/plain": [
       "<Figure size 432x288 with 1 Axes>"
      ]
     },
     "metadata": {
      "needs_background": "light"
     },
     "output_type": "display_data"
    },
    {
     "name": "stdout",
     "output_type": "stream",
     "text": [
      "Predicted coolness for a 73 year old: 32.642301066279764\n"
     ]
    }
   ],
   "source": [
    "cub_spline = LSQUnivariateSpline(cool2.age.values, cool2.cool.values,\n",
    "                                 t = knots, k = 3)\n",
    "\n",
    "# Adding to our plots\n",
    "plt.scatter(cool.age, cool.cool, c=\"y\", label = \"Points\")\n",
    "plt.plot(cool.age, step.predict(), c=\"r\" , label = \"Stepwise\")\n",
    "plt.plot(cool2.age,lin_spline(cool2.age), c=\"g\", label = \"Linear Spline\")\n",
    "plt.plot(cool2.age,cub_spline(cool2.age), c=\"b\", label = \"Cubic Spline\")\n",
    "plt.legend()\n",
    "plt.title(\"Coolness According to High Schoolers\", fontsize=15)\n",
    "plt.xlabel(\"Age\")\n",
    "plt.ylabel(\"Coolness Index\")\n",
    "plt.show()\n",
    "\n",
    "print(\"Predicted coolness for a 73 year old:\", cub_spline(73))"
   ]
  }
 ],
 "metadata": {
  "kernelspec": {
   "display_name": "Python 3",
   "language": "python",
   "name": "python3"
  },
  "language_info": {
   "codemirror_mode": {
    "name": "ipython",
    "version": 3
   },
   "file_extension": ".py",
   "mimetype": "text/x-python",
   "name": "python",
   "nbconvert_exporter": "python",
   "pygments_lexer": "ipython3",
   "version": "3.7.1"
  }
 },
 "nbformat": 4,
 "nbformat_minor": 2
}
