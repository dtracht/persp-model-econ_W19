{
 "cells": [
  {
   "cell_type": "markdown",
   "metadata": {},
   "source": [
    "# MACS 30150 - Problem Set 3\n",
    "### by Daniel Tracht, January 2019\n",
    "The code in this Jupyter notebook was written using Python 3.7.  This problem set follows exercises 5.1 through 5.22 in Dr. Evan's chapter on Dynamic Programming"
   ]
  },
  {
   "cell_type": "markdown",
   "metadata": {},
   "source": [
    "## Exercise 5.1\n",
    "\n",
    "Our problem, in terms of consumption is\n",
    "$$\n",
    "\\max_{c_{t}\\in\\left[0,W_{t}\\right]}\\sum_{t=1}^{T}\\beta^{t-1}u\\left(c_{t}\\right)\\quad\\text{s.t.}\\;W_{t+1}=W_{t}-c_{t}\n",
    "$$\n",
    "\n",
    "where $W_{t}$ is non-negative and taken as given by the agent in\n",
    "period $t$. If $T=1$, our problem becomes\n",
    "$$\n",
    "\\max_{c_{1}\\in\\left[0,W_{1}\\right]}u\\left(c_{1}\\right)\\quad\\text{s.t.}\\;W_{2}=W_{1}-c_{1}\n",
    "$$\n",
    "\n",
    "At the optimum, \n",
    "\\begin{align*}\n",
    "W_{1} & =c_{1}\\\\\n",
    "W_{2} & =0\n",
    "\\end{align*}\n",
    "\n",
    "as $u\\left(c_{1}\\right)$ is increasing in its argument. Written in\n",
    "the equivalent way, our problem is\n",
    "\n",
    "$$\n",
    "\\max_{W_{t+1}\\in\\left[0,W_{t}\\right]}\\sum_{t=1}^{T}\\beta^{t-1}u\\left(W_{t}-W_{t+1}\\right)\n",
    "$$\n",
    "\n",
    "In the case that $T=1$, our problem becomes\n",
    "$$\n",
    "\\max_{W_{2}\\in\\left[0,W_{1}\\right]}u\\left(W_{1}-W_{2}\\right)\n",
    "$$\n",
    "\n",
    "At the optimum, \n",
    "$$\n",
    "W_{2}=0\n",
    "$$\n",
    "\n",
    "as utility is increasing in $W_{1}$ and decreasing in $W_{2}$. This\n",
    "can be written as \n",
    "$$\n",
    "W_{T+1}=\\Psi_{T}\\left(W_{T}\\right)=0\n",
    "$$\n",
    "\n",
    "We wish to find the condition that characterizes the optimal amount of cake to eat in period 1, if the individual lives for one period $T=1$.  The individual would choose $W_1$ such that \n",
    "\n",
    "\n",
    "$$\\max\\limits_{w_2\\in [0,W_1]} u(W_1-W_2)$$"
   ]
  },
  {
   "cell_type": "markdown",
   "metadata": {},
   "source": [
    "## Exercise 5.2\n",
    "\n",
    "In the case that the agent lives for two periods, that is $T=2$,\n",
    "our problem in period 2 becomes\n",
    "$$\\max_{W_{3}\\in\\left[0,W_{2}\\right]}u\\left(W_{2}-W_{3}\\right)\n",
    "$$\n",
    " and we find that\n",
    "$$\n",
    "W_{3}=0\n",
    "$$\n",
    "\n",
    "In period 1, our problem becomes\n",
    "$$\n",
    "\\max_{W_{2}\\in\\left[0,W_{1}\\right]}u\\left(W_{1}-W_{2}\\right)+\\beta u\\left(W_{2}\\right)\n",
    "$$\n",
    "\n",
    "subject to our law of motion. At the optimum, we have\n",
    "$$\n",
    "\\frac{\\delta u\\left(W_{1}-W_{2}\\right)}{\\delta W_{2}}=\\beta\\frac{\\delta u\\left(W_{2}\\right)}{\\delta W_{2}}\n",
    "$$\n",
    "\n",
    "where the agent chooses $W_{2}$ such that marginal utility today\n",
    "equals the discounted marginal utility in the next period. This can\n",
    "be written as\n",
    "$$\n",
    "W_{T}=\\Psi_{T-1}=\\left(W_{T-1}\\right):\\frac{\\delta u\\left(W_{T-1}-W_{T}\\right)}{\\delta W_{T}}=\\beta\\frac{\\delta V_{T}\\left(W_{T}\\right)}{\\delta W_{T}}\n",
    "$$\n",
    " where we've replaced the utility next period with the value function\n",
    "next period"
   ]
  },
  {
   "cell_type": "markdown",
   "metadata": {},
   "source": [
    "## Exercise 5.3\n",
    "\n",
    "In the case that the age lives for three periods, that is $T=3$,\n",
    "our problem becomes easier to write using the policy functions from\n",
    "the previous two exercises and the notation used in the lectures:\n",
    "$$\n",
    "\\max_{W_{T-1}}u\\left(W_{T-2}-W_{T-1}\\right)+\\beta u\\left(W_{T-1}-\\Psi_{T-1}\\left(W_{T-1}\\right)\\right)+\\beta^{2}u\\left(\\Psi_{T-1}\\left(W_{T-1}\\right)\\right)\n",
    "$$\n",
    "\n",
    "where $W_{T-2}$ is given. Taking a derivative with respect to $W_{T-1}$,\n",
    "we get\n",
    "$$\n",
    "\\frac{\\delta u\\left(W_{T-2}-W_{T-1}\\right)}{\\delta W_{T-1}}=\\beta\\frac{\\delta u\\left(W_{T-1}-W_{T}\\right)}{\\delta W_{T-1}}\n",
    "$$\n",
    "\n",
    "For $T=3$ we get\n",
    "\\begin{align*}\n",
    "\\frac{\\delta u\\left(W_{1}-W_{2}\\right)}{\\delta W_{2}} & =\\beta\\frac{\\delta u\\left(W_{2}-W_{3}\\right)}{\\delta W_{2}}=\\beta\\frac{\\delta V_{T}\\left(W_{T}\\right)}{\\delta W_{T}}\n",
    "\\end{align*}\n",
    "\n",
    "Combining our information, we have\n",
    "\\begin{align*}\n",
    "\\left\\{ W_{2},W_{3},W_{4}\\right\\}  & =\\left\\{ \\right\\} \\\\\n",
    "W_{4} & =0\\\\\n",
    "W_{3} & =\\Psi_{2}\\left(W_{2}\\right)\\\\\n",
    "W_{2} & =\n",
    "\\end{align*}\n",
    "\n",
    "Assuming that $W_{1}=1$, $\\beta=0.9$, and that the period utility\n",
    "function is $\\ln\\left(c_{t}\\right)$, we wish to find the vectors\n",
    "of consumption and cake size over our time periods. We can solve this and practice our Python at the same time:"
   ]
  },
  {
   "cell_type": "code",
   "execution_count": 6,
   "metadata": {},
   "outputs": [
    {
     "name": "stdout",
     "output_type": "stream",
     "text": [
      "{'w_1': 1.0, 'w_2': 0.630996309963100, 'w_3': 0.298892988929889, 'w_4': 0}\n",
      "{'c_1': 0.369003690036900, 'c_2': 0.332103321033210, 'c_3': 0.298892988929889}\n"
     ]
    }
   ],
   "source": [
    "# Solving the functions analytically using sympy\n",
    "import sympy as sy\n",
    "# Given parameters\n",
    "w_1 = 1.0\n",
    "beta = 0.9\n",
    "# Want to solve for w_2 through w_4 and c_1 through c_3\n",
    "w_4 = 0 # by construction of the problem\n",
    "w_2 = sy.symbols('w_2')\n",
    "w_3 = sy.symbols('w_3')\n",
    "# a system of our two equations from above\n",
    "# returns a list of solution mappings\n",
    "solutions = sy.solve([sy.log(w_2 - w_3).diff(w_3) + beta*sy.log(w_3).diff(w_3),\n",
    "                      sy.log(w_1 - w_2).diff(w_2) + beta*sy.log(w_2 - w_3).diff(w_2)],\n",
    "                     dict=True)\n",
    "# Recall the relations between cake size and consumption\n",
    "c_1 = w_1 - solutions[0][w_2]\n",
    "c_2 = solutions[0][w_2] - solutions[0][w_3]\n",
    "c_3 = solutions[0][w_3]\n",
    "\n",
    "# w_1 defined as given parameter\n",
    "w_2 = solutions[0][w_2]\n",
    "w_3 = solutions[0][w_3]\n",
    "w_4 = 0 # no need to solve for this one\n",
    "\n",
    "# make dictionaries of the solutions\n",
    "w_vec = [w_1, w_2, w_3, w_4]\n",
    "c_vec = [c_1, c_2, c_3]\n",
    "key_w = ['w_1', 'w_2', 'w_3', 'w_4']\n",
    "key_c = ['c_1', 'c_2', 'c_3']\n",
    "\n",
    "dict_w = dict(zip(key_w, w_vec))\n",
    "dict_c = dict(zip(key_c, c_vec))\n",
    "\n",
    "print(dict_w)\n",
    "print(dict_c)\n"
   ]
  },
  {
   "cell_type": "markdown",
   "metadata": {},
   "source": [
    "## Exercise 5.4\n",
    "We have rewritten our problem as\n",
    "$$\n",
    "V_{T-1}\\left(W_{T-1}\\right)=\\max_{W_{T}}u\\left(W_{T-1}-W_{T}\\right)+\\beta V_{T}\\left(W_{T}\\right)\n",
    "$$\n",
    "We want to show the policy function in period $T-1$ for \n",
    "$$\n",
    "W_{T}=\\psi_{T-1}\\left(W_{T-1}\\right)\n",
    "$$\n",
    "\n",
    "From the work in excercise 5.2, this is\n",
    "$$\n",
    "W_{T}=\\psi_{T-1}\\left(W_{T-1}\\right):\\frac{\\delta u\\left(W_{T-1}-W_{T}\\right)}{\\delta W_{T}}=\\beta\\frac{\\delta V\\left(W_{T}\\right)}{\\delta W_{T}}\n",
    "$$\n",
    "\n",
    "Writing the value function $V_{T-1}$ in terms of the policy function,\n",
    "we have\n",
    "$$\n",
    "V_{T-1}\\left(W_{T-1}\\right)=\\max_{W_{T}}u\\left(W_{T-1}-\\psi_{T-1}\\left(W_{T-1}\\right)\\right)+\\beta V_{T}\\left(\\psi_{T-1}\\left(W_{T-1}\\right)\\right)\n",
    "$$"
   ]
  },
  {
   "cell_type": "markdown",
   "metadata": {},
   "source": [
    "## Exercise 5.5\n",
    "\n",
    "Let us assume that $u\\left(c\\right)=\\ln\\left(c\\right)$. We want to\n",
    "show that\n",
    "$$\n",
    "V_{T-1}\\left(\\bar{W}\\right)\\neq V_{T}\\left(\\bar{W}\\right)\n",
    "$$\n",
    " and that\n",
    "$$\n",
    "\\psi_{T-1}\\left(\\bar{W}\\right)\\neq\\psi_{T}\\left(\\bar{W}\\right)\n",
    "$$\n",
    " for a fixed cake size $\\bar{W}$ and $T<\\infty$ is the last period\n",
    "of the agent's life. Since the agent is finitely lived, we know that\n",
    "$\\psi_{T}\\left(\\bar{W}\\right)=W_{T+1}=0$. Intuitively, the agent\n",
    "can't eat cake after death. Furthermore, we know that\n",
    "$$\n",
    "\\psi_{T-1}\\left(\\bar{W}\\right)=W_{T}=\\bar{W}\n",
    "$$\n",
    "\n",
    "Thus, \n",
    "$$\n",
    "\\psi_{T-1}\\left(\\bar{W}\\right)\\neq\\psi_{T}\\left(\\bar{W}\\right)\n",
    "$$\n",
    "\n",
    "Futhermore, we know that\n",
    "\\begin{align*}\n",
    "V_{T}\\left(\\bar{W}\\right) & =\\max_{W_{T+1}}u\\left(\\bar{W}-\\psi_{T}\\left(\\bar{W}\\right)\\right)+\\beta V_{T+1}\\left(\\psi_{T}\\left(\\bar{W}\\right)\\right)\\\\\n",
    " & =\\max_{W_{T+1}}u\\left(\\bar{W}\\right)\\\\\n",
    " & =u\\left(\\bar{W}\\right)\\\\\n",
    " & =\\ln\\left(\\bar{W}\\right)\n",
    "\\end{align*}\n",
    "\n",
    "and that\n",
    "$$\n",
    "V_{T-1}\\left(\\bar{W}\\right)=\\max_{W_{T}}u\\left(\\bar{W}-\\psi_{T-1}\\left(W_{T}\\right)\\right)+\\beta V_{T}\\left(\\psi_{T-1}\\left(W_{T}\\right)\\right)\n",
    "$$\n",
    "\n",
    "At optimality with our assumed form for utility, we have\n",
    "$$\n",
    "$$"
   ]
  },
  {
   "cell_type": "markdown",
   "metadata": {},
   "source": [
    "## Exercise 5.6\n",
    "Assuming that $u\\left(c\\right)=\\ln\\left(c\\right)$, we want to write\n",
    "the finite horizon Bellman equation for the value function at time\n",
    "$T-2$. This is\n",
    "\\begin{align*}\n",
    "V_{T-2}\\left(W_{T-2}\\right) & =\\max_{W_{T-1}}\\ln\\left(W_{T-2}-W_{T-1}\\right)+\\beta V_{T}\\left(W_{T-1}\\right)\\\\\n",
    "\\end{align*}\n",
    " \n",
    "\n",
    "which is a very pretty recursive equation. We want the analytical\n",
    "solution for\n",
    "$$\n",
    "W_{T-1}=\\psi_{T-2}\\left(W_{T-2}\\right)\n",
    "$$\n",
    "\n",
    "using the envelope theorem. This is\n",
    "$$\n",
    "W_{t-1}\n",
    "$$\n",
    "\n",
    "Furthermore, we want the analytical solution for $V_{T-2}$. This\n",
    "is\n",
    "$$\n",
    "V_{T-2}\n",
    "$$"
   ]
  },
  {
   "cell_type": "markdown",
   "metadata": {},
   "source": [
    "## Exercise 5.7\n",
    "\n",
    "Assuming that $u\\left(c\\right)=\\ln\\left(c\\right)$, and with the answers\n",
    "to the previous two exercises, we want to write down the expressions\n",
    "for the analytical solutions for\n",
    "$$\n",
    "\\psi_{T-s}\\left(W_{T-s}\\right)\n",
    "$$\n",
    "\n",
    "and \n",
    "$$\n",
    "V_{T-s}\\left(W_{T-s}\\right)\n",
    "$$\n",
    " for the general integer $s\\geq1$ using induction.\n",
    "\n",
    "This is\n",
    "$$\n",
    "\\psi_{T-s}\\left(W_{T-s}\\right)=\\frac{\\sum_{i=1}^{s}\\beta^{i}}{1+\\sum_{i=1}^{s}\\beta^{i}}W_{T-s}\n",
    "$$\n",
    "\n",
    "which intuitively means that the cake saved for the next $s$ periods\n",
    "until death is the cake that keeps the discounted stream of log utility\n",
    "stable. Furthermore, we have\n",
    "$$\n",
    "V_{T-s}\\left(W_{T-s}\\right)=\\sum_{i=1}^{s}\\beta^{i}\\ln\\left(\\frac{\\beta^{i}W_{T-s}}{1+\\sum_{i=1}^{s}\\beta^{i}}\\right)\n",
    "$$\n",
    "\n",
    "which intuitively means that the value We want to show that\n",
    "$$\n",
    "\\lim_{s\\to\\infty}V_{T-s}\\left(W_{T-s}\\right)=V\\left(W_{T-s}\\right)\n",
    "$$\n",
    "\n",
    "and that\n",
    "$$\n",
    "\\lim_{s\\to\\infty}\\psi_{T-s}\\left(W_{T-s}\\right)=\\psi\\left(W_{T-s}\\right)\n",
    "$$"
   ]
  },
  {
   "cell_type": "markdown",
   "metadata": {},
   "source": [
    "## Exercise 5.8\n",
    "We want to write the Bellman equation for the cake eating problem\n",
    "with a general utility function with $T=\\infty$. This is\n",
    "$$\n",
    "V\\left(W\\right)=\\max_{W^{\\prime}\\in\\left[0,W\\right]}u\\left(W-W^{\\prime}\\right)+\\beta V\\left(W^{\\prime}\\right)\n",
    "$$\n"
   ]
  },
  {
   "cell_type": "markdown",
   "metadata": {},
   "source": [
    "## Exercise 5.9\n",
    "For this  we can work in Python"
   ]
  },
  {
   "cell_type": "code",
   "execution_count": 34,
   "metadata": {},
   "outputs": [],
   "source": [
    "import numpy as np\n",
    "w_min = 1e-2\n",
    "w_max = 1.0\n",
    "N = 100\n",
    "w_vec = np.linspace(w_min, w_max, N)"
   ]
  },
  {
   "cell_type": "markdown",
   "metadata": {},
   "source": [
    "## Exercise 5.10\n",
    "Continuing in Python"
   ]
  },
  {
   "cell_type": "code",
   "execution_count": 35,
   "metadata": {},
   "outputs": [],
   "source": [
    "# defining the utility function\n",
    "def utility(consumption):\n",
    "    utils = np.log(consumption)\n",
    "    return utils\n",
    "# given parameter\n",
    "beta = 0.9\n",
    "\n",
    "# following the code as covered in lecture\n",
    "w = np.tile(w_vec.reshape((N, 1)), (1, N))\n",
    "w_prime = np.tile(w_vec.reshape((1, N)), (N, 1))\n",
    "c_mat = w - w_prime\n",
    "c_pos = c_mat > 0\n",
    "c_mat[~c_pos] = 1e-7\n",
    "u_mat = utility(c_mat)\n",
    "# initial guess of zeros\n",
    "v_init = np.zeros(N).reshape((N, 1))\n",
    "vt_w = u_mat + beta * v_init\n",
    "\n",
    "# this is the value function\n",
    "v_vec = vt_w.max(axis=1)\n",
    "\n",
    "#print(v_vec)\n",
    "\n",
    "index = np.argmax(vt_w, axis=1)\n",
    "\n",
    "# this is the policy function\n",
    "w_prime_opt = w_vec[index]\n",
    "#print(w_prime_opt)"
   ]
  },
  {
   "cell_type": "markdown",
   "metadata": {},
   "source": [
    "## Exercise 5.11\n",
    "\n",
    "Defining the distance metric in Python:"
   ]
  },
  {
   "cell_type": "code",
   "execution_count": 36,
   "metadata": {},
   "outputs": [],
   "source": [
    "def distance(vf_1, vf_2):\n",
    "    norm = np.sum((vf_1 - vf_2)**2)\n",
    "    return norm"
   ]
  },
  {
   "cell_type": "markdown",
   "metadata": {},
   "source": [
    "## Exercise 5.12\n",
    "Generating $V_{T-1}$ and $\\psi_{T-1}$ in Python:"
   ]
  },
  {
   "cell_type": "code",
   "execution_count": 37,
   "metadata": {},
   "outputs": [
    {
     "name": "stdout",
     "output_type": "stream",
     "text": [
      "Distance at time T: 43871.91180731695\n",
      "Distance at time T-1: 656100000726.7605\n"
     ]
    }
   ],
   "source": [
    "# taking v_vec from 5.10\n",
    "v_prime = np.tile(v_vec.reshape((1, N)), (N, 1))\n",
    "# punish the values for negative consumption\n",
    "v_prime[~c_pos] = -9e+5\n",
    "v_w_1 = u_mat + beta * v_prime\n",
    "# new value function\n",
    "v_max_1 = v_w_1.max(axis=1)\n",
    "#print(v_max_1)\n",
    "\n",
    "index = np.argmax(v_w_1, axis=1)\n",
    "# new policy function\n",
    "w_prime_opt = w_vec[index]\n",
    "#print(w_prime_opt)\n",
    "\n",
    "# compare the distances\n",
    "dist_T = distance(v_vec, v_init)\n",
    "print(\"Distance at time T:\", dist_T)\n",
    "dist_T_1 = distance(v_max_1, v_vec)\n",
    "print(\"Distance at time T-1:\", dist_T_1)"
   ]
  },
  {
   "cell_type": "markdown",
   "metadata": {},
   "source": [
    "The distance for $T-1$  is much larger than for $T$"
   ]
  },
  {
   "cell_type": "markdown",
   "metadata": {},
   "source": [
    "## Exercise 5.13\n",
    "Repeating the takse for $T-2$"
   ]
  },
  {
   "cell_type": "code",
   "execution_count": 39,
   "metadata": {},
   "outputs": [
    {
     "name": "stdout",
     "output_type": "stream",
     "text": [
      "Distance at time T: 43871.91180731695\n",
      "Distance at time T-1: 656100000726.7605\n",
      "Distance at time T-2 compared to T-1: 531441000766.63214\n",
      "Distance at time T-2 compared to T: 118759498024501.34\n"
     ]
    }
   ],
   "source": [
    "# taking v_max_1 from 5.12\n",
    "v_prime = np.tile(v_max_1.reshape((1, N)), (N, 1))\n",
    "# punish the values for negative consumption\n",
    "v_prime[~c_pos] = -9e+5\n",
    "v_w_2 = u_mat + beta * v_prime\n",
    "# new value function\n",
    "v_max_2 = v_w_2.max(axis=1)\n",
    "#print(v_max_1)\n",
    "\n",
    "index = np.argmax(v_w_2, axis=1)\n",
    "# new policy function\n",
    "w_prime_opt = w_vec[index]\n",
    "#print(w_prime_opt)\n",
    "\n",
    "# compare the distances\n",
    "dist_T = distance(v_vec, v_init)\n",
    "print(\"Distance at time T:\", dist_T)\n",
    "dist_T_1 = distance(v_max_1, v_vec)\n",
    "print(\"Distance at time T-1:\", dist_T_1)\n",
    "dist_T_2 = distance(v_max_2, v_max_1)\n",
    "print(\"Distance at time T-2 compared to T-1:\", dist_T_2)\n",
    "dist_T_2_alt = distance(v_max_2, v_init)\n",
    "print(\"Distance at time T-2 compared to T:\", dist_T_2_alt)"
   ]
  },
  {
   "cell_type": "markdown",
   "metadata": {},
   "source": [
    "Again, the distances at $T-2$ are greater than for time $T$."
   ]
  },
  {
   "cell_type": "markdown",
   "metadata": {},
   "source": [
    "## Exercise 5.14\n",
    "A first exercise of value function iteration in Python:\n"
   ]
  },
  {
   "cell_type": "code",
   "execution_count": 32,
   "metadata": {},
   "outputs": [
    {
     "name": "stdout",
     "output_type": "stream",
     "text": [
      "Iteration = 1 ; distance = 656361157021.4574\n",
      "Iteration = 2 ; distance = 5316525743.271798\n",
      "Iteration = 3 ; distance = 4306386030.006323\n",
      "Iteration = 4 ; distance = 3488172794.5714226\n",
      "Iteration = 5 ; distance = 2825420037.630621\n",
      "Iteration = 6 ; distance = 2288590282.5590844\n",
      "Iteration = 7 ; distance = 1853758166.5375955\n",
      "Iteration = 8 ; distance = 1501544142.7426846\n",
      "Iteration = 9 ; distance = 1216250776.642259\n",
      "Iteration = 10 ; distance = 985163145.1419044\n",
      "Iteration = 11 ; distance = 797982160.0373642\n",
      "Iteration = 12 ; distance = 646365559.4266962\n",
      "Iteration = 13 ; distance = 523556110.9935629\n",
      "Iteration = 14 ; distance = 424080456.20615387\n",
      "Iteration = 15 ; distance = 343505174.74340343\n",
      "Iteration = 16 ; distance = 278239195.8852569\n",
      "Iteration = 17 ; distance = 225373752.31221965\n",
      "Iteration = 18 ; distance = 182552742.55996224\n",
      "Iteration = 19 ; distance = 147867724.27005062\n",
      "Iteration = 20 ; distance = 119772859.10622115\n",
      "Iteration = 21 ; distance = 97016018.0385953\n",
      "Iteration = 22 ; distance = 78582976.63315375\n",
      "Iteration = 23 ; distance = 63652212.98545916\n",
      "Iteration = 24 ; distance = 51558294.32776982\n",
      "Iteration = 25 ; distance = 41762220.1200653\n",
      "Iteration = 26 ; distance = 33827399.92370578\n",
      "Iteration = 27 ; distance = 27400195.48398699\n",
      "Iteration = 28 ; distance = 22194159.813998673\n",
      "Iteration = 29 ; distance = 17977270.853317253\n",
      "Iteration = 30 ; distance = 14561590.732883928\n",
      "Iteration = 31 ; distance = 11794889.778709196\n",
      "Iteration = 32 ; distance = 9553861.95285677\n",
      "Iteration = 33 ; distance = 7738629.36668709\n",
      "Iteration = 34 ; distance = 6268290.928397754\n",
      "Iteration = 35 ; distance = 5077316.754233369\n",
      "Iteration = 36 ; distance = 4112627.637429302\n",
      "Iteration = 37 ; distance = 3331229.420618224\n",
      "Iteration = 38 ; distance = 2698296.8357309587\n",
      "Iteration = 39 ; distance = 2185621.415306089\n",
      "Iteration = 40 ; distance = 1770354.30067605\n",
      "Iteration = 41 ; distance = 1433987.914944458\n",
      "Iteration = 42 ; distance = 1161531.1223381404\n",
      "Iteration = 43 ; distance = 940841.1015289264\n",
      "Iteration = 44 ; distance = 762082.1677779292\n",
      "Iteration = 45 ; distance = 617287.4156153646\n",
      "Iteration = 46 ; distance = 500003.6522140527\n",
      "Iteration = 47 ; distance = 405003.7907942261\n",
      "Iteration = 48 ; distance = 328053.89114983805\n",
      "Iteration = 49 ; distance = 265724.4605370663\n",
      "Iteration = 50 ; distance = 215237.6113282474\n",
      "Iteration = 51 ; distance = 174343.25337503717\n",
      "Iteration = 52 ; distance = 141218.81426884216\n",
      "Iteration = 53 ; distance = 114388.00935499243\n",
      "Iteration = 54 ; distance = 92655.04917523317\n",
      "Iteration = 55 ; distance = 75051.34382720977\n",
      "Iteration = 56 ; distance = 60792.33427200552\n",
      "Iteration = 57 ; distance = 49242.52936902187\n",
      "Iteration = 58 ; distance = 39887.180071882685\n",
      "Iteration = 59 ; distance = 32309.340384184605\n",
      "Iteration = 60 ; distance = 26171.282961856\n",
      "Iteration = 61 ; distance = 21199.44996270106\n",
      "Iteration = 62 ; distance = 17172.25765403326\n",
      "Iteration = 63 ; distance = 13910.225445246653\n",
      "Iteration = 64 ; distance = 11267.97247896265\n",
      "Iteration = 65 ; distance = 9127.741149256373\n",
      "Iteration = 66 ; distance = 7394.146525049693\n",
      "Iteration = 67 ; distance = 5989.928390551506\n",
      "Iteration = 68 ; distance = 4852.503735570291\n",
      "Iteration = 69 ; distance = 3931.1818695174757\n",
      "Iteration = 70 ; distance = 3184.904097831992\n",
      "Iteration = 71 ; distance = 2580.410948027704\n",
      "Iteration = 72 ; distance = 2090.7641764207274\n",
      "Iteration = 73 ; distance = 1694.1410904514291\n",
      "Iteration = 74 ; distance = 1372.8672014517142\n",
      "Iteration = 75 ; distance = 1112.627119310548\n",
      "Iteration = 76 ; distance = 901.8230243640993\n",
      "Iteration = 77 ; distance = 731.0600844858621\n",
      "Iteration = 78 ; distance = 592.7310334744678\n",
      "Iteration = 79 ; distance = 480.6745763286175\n",
      "Iteration = 80 ; distance = 389.89717447236984\n",
      "Iteration = 81 ; distance = 316.3533259689117\n",
      "Iteration = 82 ; distance = 256.76931150496404\n",
      "Iteration = 83 ; distance = 208.4941502491576\n",
      "Iteration = 84 ; distance = 169.37141215479707\n",
      "Iteration = 85 ; distance = 137.665420034222\n",
      "Iteration = 86 ; distance = 111.96869169941148\n",
      "Iteration = 87 ; distance = 91.12990180160644\n",
      "Iteration = 88 ; distance = 74.23008056632061\n",
      "Iteration = 89 ; distance = 60.52291228596271\n",
      "Iteration = 90 ; distance = 49.38428817377354\n",
      "Iteration = 91 ; distance = 40.24315102906038\n",
      "Iteration = 92 ; distance = 32.126682064026454\n",
      "Iteration = 93 ; distance = 25.541799163125216\n",
      "Iteration = 94 ; distance = 19.767115537050348\n",
      "Iteration = 95 ; distance = 15.155025726039097\n",
      "Iteration = 96 ; distance = 11.174263919022518\n",
      "Iteration = 97 ; distance = 8.02000552946439\n",
      "Iteration = 98 ; distance = 5.341082016591021\n",
      "Iteration = 99 ; distance = 3.2347254868217576\n",
      "Iteration = 100 ; distance = 1.4634529907462\n",
      "Iteration = 101 ; distance = 0.0\n",
      "Convergence!\n",
      "It takes 101 iterations to converge\n"
     ]
    }
   ],
   "source": [
    "max_iters = 500\n",
    "tolerance = 1e-10\n",
    "dist = 10.0\n",
    "vf_iter = 0\n",
    "while dist > tolerance and vf_iter < max_iters:\n",
    "    vf_iter += 1\n",
    "    # takes an initial guess and calculates the new value function \n",
    "    v_prime = np.tile(v_init.reshape((1, N)), (N, 1))\n",
    "    v_prime[~c_pos] = -9e+4\n",
    "    v_new = (u_mat + beta * v_prime).max(axis=1)\n",
    "    # measures the distance between the new value function and the old\n",
    "    dist = distance(v_new, v_init)\n",
    "    print('Iteration =', vf_iter, '; distance =', dist)\n",
    "    v_init = v_new\n",
    "\n",
    "print(\"Convergence!\")\n",
    "print(\"It takes %d iterations to converge\" % vf_iter)"
   ]
  },
  {
   "cell_type": "markdown",
   "metadata": {},
   "source": [
    "## Exercise 5.15\n",
    "Plotting in Python"
   ]
  },
  {
   "cell_type": "code",
   "execution_count": 42,
   "metadata": {},
   "outputs": [
    {
     "data": {
      "image/png": "[encoded data removed]",
      "text/plain": [
       "<Figure size 432x288 with 1 Axes>"
      ]
     },
     "metadata": {
      "needs_background": "light"
     },
     "output_type": "display_data"
    }
   ],
   "source": [
    "import matplotlib.pyplot as plt\n",
    "\n",
    "index = np.argmax(u_mat + beta * v_prime, axis=1)\n",
    "w_prime_opt = w_vec[index]\n",
    "plt.plot(w_vec, w_prime_opt)\n",
    "plt.title('Policy Function at Convergence')\n",
    "plt.xlabel('W')\n",
    "plt.ylabel(\"W Prime\")\n",
    "plt.show()\n"
   ]
  },
  {
   "cell_type": "markdown",
   "metadata": {},
   "source": [
    "## Exercise 5.16\n",
    "With i.i.d. stochastic shocks:"
   ]
  },
  {
   "cell_type": "code",
   "execution_count": 46,
   "metadata": {},
   "outputs": [
    {
     "data": {
      "text/plain": [
       "array([0.0088637 , 0.10798193, 0.48394145, 0.79788456, 0.48394145,\n",
       "       0.10798193, 0.0088637 ])"
      ]
     },
     "execution_count": 46,
     "metadata": {},
     "output_type": "execute_result"
    }
   ],
   "source": [
    "import scipy.stats as sts\n",
    "# parameters from the exercise\n",
    "sigma = np.sqrt(0.25)\n",
    "mu = 4 * sigma\n",
    "e_max = mu + 3 * sigma\n",
    "e_min = mu - 3 * sigma\n",
    "M = 7\n",
    "e_vec = np.linspace(e_min, e_max, M)\n",
    "Gamma = sts.norm.pdf(e_vec, loc = mu, scale = sigma)"
   ]
  },
  {
   "cell_type": "markdown",
   "metadata": {},
   "source": [
    "## Exercise 5.17\n",
    "Getting the policy function in the stochastic case:"
   ]
  },
  {
   "cell_type": "code",
   "execution_count": 59,
   "metadata": {},
   "outputs": [],
   "source": [
    "# as from above\n",
    "w = np.tile(w_vec.reshape((N, 1)), (1, N))\n",
    "w_prime = np.tile(w_vec.reshape((1, N)), (N, 1))\n",
    "c_mat = w - w_prime\n",
    "c_pos = c_mat > 0\n",
    "c_mat[~c_pos] = 1e-7\n",
    "u_mat = utility(c_mat)\n",
    "# adding the shocks\n",
    "u_prism = np.array([u_mat*e for e in Gamma])\n",
    "\n",
    "# following from lecture\n",
    "v_init = np.zeros((N, M))\n",
    "v_expected = v_init @ Gamma.reshape((M,1))\n",
    "v_expected_mat = np.tile(v_expected.reshape((1, N)), (N, 1))\n",
    "v_expected_mat[~c_pos] = -9e+5\n",
    "v_expected_prism = np.array([v_expected_mat for i in range(M)])\n",
    "\n",
    "# get the new value\n",
    "v_t = u_prism + beta * v_expected_prism\n",
    "# maximizing the axis to conform dimensions\n",
    "v_new = np.zeros((N, M))\n",
    "w_prime = np.zeros((N, M))\n",
    "for i in range(N):\n",
    "    v_w = v_t[:, i, :]\n",
    "    v_new[i] = v_w.max(axis=1)\n",
    "    index = np.argmax(v_w, axis=1)\n",
    "    w_prime[i] = w_vec[index]"
   ]
  },
  {
   "cell_type": "markdown",
   "metadata": {},
   "source": [
    "## Exercise 5.18\n",
    "The norm revisted"
   ]
  },
  {
   "cell_type": "code",
   "execution_count": 60,
   "metadata": {},
   "outputs": [
    {
     "name": "stdout",
     "output_type": "stream",
     "text": [
      "The distance between T and init: 4592752208991.432\n"
     ]
    }
   ],
   "source": [
    "def distance(vf_1, vf_2):\n",
    "    norm = np.sum((vf_1 - vf_2)**2)\n",
    "    return norm\n",
    "dist = distance(v_new, v_init)\n",
    "print(\"The distance between T and init:\", dist)"
   ]
  },
  {
   "cell_type": "markdown",
   "metadata": {},
   "source": [
    "## Exercise 5.19\n",
    "Contraction revisited"
   ]
  },
  {
   "cell_type": "code",
   "execution_count": 61,
   "metadata": {},
   "outputs": [
    {
     "name": "stdout",
     "output_type": "stream",
     "text": [
      "The distance between T-1 and T: 4592737294212.839\n"
     ]
    }
   ],
   "source": [
    "# Replacing v_init with v_new from 5.17\n",
    "v_init = v_new\n",
    "v_expected = v_init @ Gamma.reshape((M,1))\n",
    "v_expected_mat = np.tile(v_expected.reshape((1, N)), (N, 1))\n",
    "v_expected_mat[~c_pos] = -9e+5\n",
    "v_expected_prism = np.array([v_expected_mat for i in range(M)])\n",
    "\n",
    "# get the new value\n",
    "v_t = u_prism + beta * v_expected_prism\n",
    "# maximizing the axis to conform dimensions\n",
    "v_new_1 = np.zeros((N, M))\n",
    "w_prime_1 = np.zeros((N, M))\n",
    "for i in range(N):\n",
    "    v_w = v_t[:, i, :]\n",
    "    v_new_1[i] = v_w.max(axis=1)\n",
    "    index = np.argmax(v_w, axis=1)\n",
    "    w_prime_1[i] = w_vec[index]\n",
    "    \n",
    "dist_1 = distance(v_new_1, v_new)\n",
    "print(\"The distance between T-1 and T:\", dist_1)"
   ]
  },
  {
   "cell_type": "markdown",
   "metadata": {},
   "source": [
    "This distance has gone down slightly."
   ]
  },
  {
   "cell_type": "markdown",
   "metadata": {},
   "source": [
    "## Exercise 5.20\n",
    "Another contraction"
   ]
  },
  {
   "cell_type": "code",
   "execution_count": 62,
   "metadata": {},
   "outputs": [
    {
     "name": "stdout",
     "output_type": "stream",
     "text": [
      "The distance between T-2 and T: 4592684263232.5205\n"
     ]
    }
   ],
   "source": [
    "# Replacing v_init with v_new_1 from 5.19\n",
    "v_init = v_new_1\n",
    "v_expected = v_init @ Gamma.reshape((M,1))\n",
    "v_expected_mat = np.tile(v_expected.reshape((1, N)), (N, 1))\n",
    "v_expected_mat[~c_pos] = -9e+5\n",
    "v_expected_prism = np.array([v_expected_mat for i in range(M)])\n",
    "\n",
    "# get the new value\n",
    "v_t = u_prism + beta * v_expected_prism\n",
    "# maximizing the axis to conform dimensions\n",
    "v_new_2 = np.zeros((N, M))\n",
    "w_prime_2 = np.zeros((N, M))\n",
    "for i in range(N):\n",
    "    v_w = v_t[:, i, :]\n",
    "    v_new_2[i] = v_w.max(axis=1)\n",
    "    index = np.argmax(v_w, axis=1)\n",
    "    w_prime_2[i] = w_vec[index]\n",
    "    \n",
    "dist_2 = distance(v_new_2, v_new_1)\n",
    "print(\"The distance between T-2 and T:\", dist_2)"
   ]
  },
  {
   "cell_type": "markdown",
   "metadata": {},
   "source": [
    "The distance again decreases."
   ]
  },
  {
   "cell_type": "markdown",
   "metadata": {},
   "source": [
    "## Exercise 5.21\n",
    "First stochastic value function iteration in Python:"
   ]
  },
  {
   "cell_type": "code",
   "execution_count": 63,
   "metadata": {},
   "outputs": [
    {
     "name": "stdout",
     "output_type": "stream",
     "text": [
      "Iteration = 1 ; distance = 4592752208991.432\n",
      "Iteration = 2 ; distance = 4592737294212.839\n",
      "Iteration = 3 ; distance = 4592684263232.5205\n",
      "Iteration = 4 ; distance = 4592588847470.437\n",
      "Iteration = 5 ; distance = 4592417191307.818\n",
      "Iteration = 6 ; distance = 4592108440110.062\n",
      "Iteration = 7 ; distance = 4591553307590.937\n",
      "Iteration = 8 ; distance = 4590555850423.502\n",
      "Iteration = 9 ; distance = 4588765787437.956\n",
      "Iteration = 10 ; distance = 4585560273089.171\n",
      "Iteration = 11 ; distance = 4579842631902.5625\n",
      "Iteration = 12 ; distance = 4569717238903.769\n",
      "Iteration = 13 ; distance = 4552023936574.209\n",
      "Iteration = 14 ; distance = 4521885388643.65\n",
      "Iteration = 15 ; distance = 4473134221758.366\n",
      "Iteration = 16 ; distance = 4403084113955.9795\n",
      "Iteration = 17 ; distance = 4334015761996.3564\n",
      "Iteration = 18 ; distance = 4393416684102.841\n",
      "Iteration = 19 ; distance = 5092352109964.73\n",
      "Iteration = 20 ; distance = 8258104678352.478\n",
      "Iteration = 21 ; distance = 20103392134173.99\n",
      "Iteration = 22 ; distance = 42382137982795.95\n",
      "Iteration = 23 ; distance = 19775517137988.44\n",
      "Iteration = 24 ; distance = 0.0\n",
      "Convergence!\n",
      "It takes 24 iterations to converge\n"
     ]
    }
   ],
   "source": [
    "max_iters = 500\n",
    "tolerance = 1e-10\n",
    "dist = 10.0\n",
    "vf_iter = 0\n",
    "v_init = np.zeros((N, M))\n",
    "while dist > tolerance and vf_iter < max_iters:\n",
    "    vf_iter += 1\n",
    "    # takes an initial guess and calculates the new value function \n",
    "    v_expected = v_init @ Gamma.reshape((M,1))\n",
    "    v_expected_mat = np.tile(v_expected.reshape((1, N)), (N, 1))\n",
    "    v_expected_mat[~c_pos] = -9e+5\n",
    "    v_expected_prism = np.array([v_expected_mat for i in range(M)])\n",
    "    # get the new value\n",
    "    v_t = u_prism + beta * v_expected_prism\n",
    "    # maximizing the axis to conform dimensions\n",
    "    v_new = np.zeros((N, M))\n",
    "    w_prime = np.zeros((N, M))\n",
    "    for i in range(N):\n",
    "        v_w = v_t[:, i, :]\n",
    "        v_new[i] = v_w.max(axis=1)\n",
    "        index = np.argmax(v_w, axis=1)\n",
    "        w_prime[i] = w_vec[index]\n",
    "    dist = distance(v_new, v_init)\n",
    "    print('Iteration =', vf_iter, '; distance =', dist)\n",
    "    v_init = v_new\n",
    "\n",
    "print(\"Convergence!\")\n",
    "print(\"It takes %d iterations to converge\" % vf_iter)"
   ]
  },
  {
   "cell_type": "markdown",
   "metadata": {},
   "source": [
    "## Exercise 5.22\n",
    "3-D Plotting in Python:\n"
   ]
  },
  {
   "cell_type": "code",
   "execution_count": 66,
   "metadata": {},
   "outputs": [
    {
     "data": {
      "image/png": "[encoded data removed]",
      "text/plain": [
       "<Figure size 720x720 with 1 Axes>"
      ]
     },
     "metadata": {
      "needs_background": "light"
     },
     "output_type": "display_data"
    }
   ],
   "source": [
    "from mpl_toolkits.mplot3d import Axes3D\n",
    "x,y = np.meshgrid(w_vec, Gamma)\n",
    "fig = plt.figure(figsize = (10, 10))\n",
    "ax = fig.add_subplot(111, projection='3d')\n",
    "ax.plot_surface(x.T, y.T, w_prime)\n",
    "ax.set_xlabel('Cake Today')\n",
    "ax.set_ylabel('Taste Shock Today')\n",
    "ax.set_title(\"Cake Tomorrow\")\n",
    "ax.view_init(elev = 45, azim = 45)\n",
    "plt.show()\n"
   ]
  }
 ],
 "metadata": {
  "anaconda-cloud": {},
  "kernelspec": {
   "display_name": "Python 3",
   "language": "python",
   "name": "python3"
  },
  "language_info": {
   "codemirror_mode": {
    "name": "ipython",
    "version": 3
   },
   "file_extension": ".py",
   "mimetype": "text/x-python",
   "name": "python",
   "nbconvert_exporter": "python",
   "pygments_lexer": "ipython3",
   "version": "3.7.1"
  }
 },
 "nbformat": 4,
 "nbformat_minor": 1
}
