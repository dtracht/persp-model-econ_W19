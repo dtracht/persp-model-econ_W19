{
 "cells": [
  {
   "cell_type": "markdown",
   "metadata": {},
   "source": [
    "# Problem Set 9\n",
    "## Daniel Tracht\n",
    "\n",
    "We begin with the data from the `strongdrink.txt` as we had used in Problem Set 7."
   ]
  },
  {
   "cell_type": "code",
   "execution_count": 1,
   "metadata": {},
   "outputs": [],
   "source": [
    "import pandas as pd\n",
    "import numpy as np\n",
    "\n",
    "wine = pd.read_csv('data/strongdrink.txt')\n",
    "\n",
    "X = wine[[\"alco\", \"malic\", \"tot_phen\", \"color_int\"]].values\n",
    "y = wine[\"cultivar\"].values"
   ]
  },
  {
   "cell_type": "markdown",
   "metadata": {},
   "source": [
    "## Part a\n",
    "\n",
    "We wish to create a scatterplot of the data where the $x$-variable is `alco` and the $y$-variable is `color_int`, where each dot has a different color denoting its `cultivar`:\n"
   ]
  },
  {
   "cell_type": "code",
   "execution_count": 7,
   "metadata": {},
   "outputs": [
    {
     "data": {
      "image/png": "[encoded data removed]",
      "text/plain": [
       "<Figure size 432x288 with 1 Axes>"
      ]
     },
     "metadata": {
      "needs_background": "light"
     },
     "output_type": "display_data"
    }
   ],
   "source": [
    "import matplotlib.pyplot as plt\n",
    "\n",
    "fig, ax = plt.subplots()\n",
    "colors = {1:\"R\", 2:\"B\", 3:\"G\"}\n",
    "labels = {1:\"Cultivar 1\", 2:\"Cultivar 2\", 3:\"Cultivar 3\"}\n",
    "grouped = wine.groupby(\"cultivar\")\n",
    "for key, group in grouped:\n",
    "    group.plot(ax=ax, kind='scatter', x=\"alco\", y=\"color_int\", label=labels[key],\n",
    "               color=colors[key])\n",
    "plt.title(\"Cultivars by Alcohol and Color Intensity\", fontsize=15)\n",
    "plt.xlabel(\"Alcohol\")\n",
    "plt.ylabel(\"Color Intensity\")\n",
    "plt.show()"
   ]
  },
  {
   "cell_type": "markdown",
   "metadata": {},
   "source": [
    "## Part b\n",
    "We wish to estimate a multinomial logistic model of `cultivar` on `alco`, `malic`, `tot_phen`, `color_int` with the specified linear predictor and report the best hyperparameters and the MSE of the optimal results"
   ]
  },
  {
   "cell_type": "code",
   "execution_count": 3,
   "metadata": {},
   "outputs": [
    {
     "name": "stdout",
     "output_type": "stream",
     "text": [
      "Best hyperparameters for Logistic:  {'C': 1.9591123209017924, 'penalty': 'l1'}\n",
      "MSE from best hyperparameters for Logistic:  0.1534090909090909\n"
     ]
    }
   ],
   "source": [
    "from sklearn.linear_model import LogisticRegression\n",
    "from sklearn.model_selection import RandomizedSearchCV\n",
    "from scipy.stats import uniform as sp_uniform\n",
    "# The warnings were for picking very strange values of the distribution\n",
    "# In seperate chunk, tested with best hyperparameters and it converged\n",
    "import warnings\n",
    "warnings.filterwarnings('ignore')\n",
    "\n",
    "# setting the parameter distributions over which we test as instructed\n",
    "param_dist1 = {'penalty': ['l1', 'l2'],\n",
    "               'C': sp_uniform(0.1, 10.0)}\n",
    "\n",
    "# no need to add constant column to X with fit_intercept=True\n",
    "logit = LogisticRegression(solver=\"saga\", multi_class='multinomial', max_iter=1000,\n",
    "                           fit_intercept=True)\n",
    "\n",
    "random_search1 = \\\n",
    "    RandomizedSearchCV(logit, param_distributions=param_dist1,\n",
    "                       n_iter=200, n_jobs=-1, cv=5, random_state=25,\n",
    "                       scoring='neg_mean_squared_error', iid=True)\n",
    "\n",
    "random_search1.fit(X, y)\n",
    "print(\"Best hyperparameters for Logistic: \", random_search1.best_params_)\n",
    "print(\"MSE from best hyperparameters for Logistic: \", -random_search1.best_score_)"
   ]
  },
  {
   "cell_type": "markdown",
   "metadata": {},
   "source": [
    "## Part c\n",
    "We wish to estimate a Random Forest model of `cultivar` on the same four features as in the previous part."
   ]
  },
  {
   "cell_type": "code",
   "execution_count": 4,
   "metadata": {},
   "outputs": [
    {
     "name": "stdout",
     "output_type": "stream",
     "text": [
      "Best hyperparameters for Random Forest: \n",
      " {'max_depth': 4, 'max_features': 3, 'min_samples_leaf': 3, 'min_samples_split': 2, 'n_estimators': 10}\n",
      "MSE from best hyperparameters for Random Forest: \n",
      " 0.1901378515169818\n"
     ]
    }
   ],
   "source": [
    "from sklearn.ensemble import RandomForestRegressor\n",
    "from scipy.stats import randint as sp_randint\n",
    "\n",
    "# setting the parameter distributions over which we test as instructed\n",
    "param_dist2 = {'n_estimators': [10, 200],\n",
    "              'max_depth': [2, 4],\n",
    "              'min_samples_split': sp_randint(2, 20),\n",
    "              'min_samples_leaf': sp_randint(2, 20),\n",
    "              'max_features': sp_randint(1, 4)}\n",
    "\n",
    "random_forest = RandomForestRegressor()\n",
    "\n",
    "random_search2 = RandomizedSearchCV(random_forest,\n",
    "                                    param_distributions=param_dist2,\n",
    "                                    n_iter=200,\n",
    "                                    n_jobs=-1,\n",
    "                                    cv=5,\n",
    "                                    random_state=25,\n",
    "                                   scoring='neg_mean_squared_error',\n",
    "                                   iid = True)\n",
    "random_search2.fit(X, y)\n",
    "print(\"Best hyperparameters for Random Forest: \\n\", random_search2.best_params_)\n",
    "print(\"MSE from best hyperparameters for Random Forest: \\n\",\n",
    "      -random_search2.best_score_)"
   ]
  },
  {
   "cell_type": "markdown",
   "metadata": {},
   "source": [
    "## Part d\n",
    "We wish to estimate a SVM model using a Gaussian radial basis function kernel and the same four features as the previous two parts"
   ]
  },
  {
   "cell_type": "code",
   "execution_count": 5,
   "metadata": {},
   "outputs": [
    {
     "name": "stdout",
     "output_type": "stream",
     "text": [
      "Best hyperparameters for SVM: \n",
      " {'C': 3.3605112613782553, 'gamma': 'scale', 'shrinking': True}\n",
      "MSE from best hyperparameters SVM: \n",
      " 0.14772727272727273\n"
     ]
    }
   ],
   "source": [
    "from sklearn import svm\n",
    "\n",
    "param_dist3 = {'C': sp_uniform(loc=0.1, scale=10.0),\n",
    "              'gamma': ['scale', 'auto'],\n",
    "              'shrinking': [True, False]}\n",
    "\n",
    "# kernel='rbf' is the default\n",
    "svm = svm.SVC()\n",
    "\n",
    "random_search3 = RandomizedSearchCV(svm,\n",
    "                                    param_distributions=param_dist3,\n",
    "                                    n_iter=200,\n",
    "                                    n_jobs=-1,\n",
    "                                    cv=5,\n",
    "                                    random_state=25,\n",
    "                                   scoring='neg_mean_squared_error',\n",
    "                                   iid=True)\n",
    "random_search3.fit(X, y)\n",
    "print(\"Best hyperparameters for SVM: \\n\", random_search3.best_params_)\n",
    "print(\"MSE from best hyperparameters SVM: \\n\", -random_search3.best_score_)"
   ]
  },
  {
   "cell_type": "markdown",
   "metadata": {},
   "source": [
    "## Part e\n",
    "We wish to fit a multiple hidden layer neural network model on the same data as in the previous three parts."
   ]
  },
  {
   "cell_type": "code",
   "execution_count": 6,
   "metadata": {},
   "outputs": [
    {
     "name": "stdout",
     "output_type": "stream",
     "text": [
      "Best hyperparameters for MLP: \n",
      " {'activation': 'relu', 'alpha': 0.47362547312722036, 'hidden_layer_sizes': 57}\n",
      "MSE from best hyperparameters for MLP:  0.07954545454545454\n"
     ]
    }
   ],
   "source": [
    "from sklearn.neural_network import MLPClassifier\n",
    "\n",
    "param_dist4 = {'hidden_layer_sizes': sp_randint(1, 100),\n",
    "              'activation': ['logistic', 'relu'],\n",
    "              'alpha': sp_uniform(0.1, 10.0)}\n",
    "\n",
    "mlp = MLPClassifier(solver='lbfgs')\n",
    "\n",
    "random_search4 = RandomizedSearchCV(mlp,\n",
    "                                    param_distributions=param_dist4,\n",
    "                                    n_iter=200,\n",
    "                                    n_jobs=-1,\n",
    "                                    cv=5,\n",
    "                                    random_state=25,\n",
    "                                   scoring='neg_mean_squared_error',\n",
    "                                   iid=True)\n",
    "random_search4.fit(X, y)\n",
    "print(\"Best hyperparameters for MLP: \\n\",random_search4.best_params_)\n",
    "print(\"MSE from best hyperparameters for MLP: \", -random_search4.best_score_)"
   ]
  },
  {
   "cell_type": "markdown",
   "metadata": {},
   "source": [
    "Of the above models, we really have only the average out-of-sample MSE using the best hyperparameters to choose which one is the best predictor.  In the logistic model, we estimated an average OOS-MSE of about 0.153.  In the random forest model, we estimated an average OOS-MSE of about 0.190.  In the support vector machine model, we estimated an average OOS-MSE of about 0.148.  And in the neural network, we estimated an average OOS-MSE of about 0.080.  And while we don't have standard errors of these point estimates, it would likely be safe to say that our neural network from part e) is the best predictor of `cultivar`."
   ]
  }
 ],
 "metadata": {
  "kernelspec": {
   "display_name": "Python 3",
   "language": "python",
   "name": "python3"
  },
  "language_info": {
   "codemirror_mode": {
    "name": "ipython",
    "version": 3
   },
   "file_extension": ".py",
   "mimetype": "text/x-python",
   "name": "python",
   "nbconvert_exporter": "python",
   "pygments_lexer": "ipython3",
   "version": "3.7.1"
  }
 },
 "nbformat": 4,
 "nbformat_minor": 2
}
